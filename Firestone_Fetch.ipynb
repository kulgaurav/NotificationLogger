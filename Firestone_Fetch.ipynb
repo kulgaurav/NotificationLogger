{
 "cells": [
  {
   "cell_type": "code",
   "execution_count": 1,
   "metadata": {},
   "outputs": [],
   "source": [
    "import firebase_admin\n",
    "from firebase_admin import credentials\n",
    "from firebase_admin import firestore\n",
    "\n",
    "# Use a service account\n",
    "if (not len(firebase_admin._apps)):\n",
    "    cred = credentials.Certificate(r'C:\\Users\\Kul\\Key\\notifiFetch.json')\n",
    "    firebase_admin.initialize_app(cred)\n",
    "\n",
    "db = firestore.client()\n"
   ]
  },
  {
   "cell_type": "code",
   "execution_count": 2,
   "metadata": {},
   "outputs": [],
   "source": [
    "users_ref = db.collection(u'user_kulgaurav23@gmail.com')\n",
    "docs = users_ref.stream() # type: generator"
   ]
  },
  {
   "cell_type": "code",
   "execution_count": 3,
   "metadata": {},
   "outputs": [],
   "source": [
    "# for doc in docs:\n",
    "#     print(doc.to_dict())\n",
    "#     break"
   ]
  },
  {
   "cell_type": "code",
   "execution_count": 4,
   "metadata": {},
   "outputs": [
    {
     "name": "stdout",
     "output_type": "stream",
     "text": [
      "Total rows:  12457\n"
     ]
    }
   ],
   "source": [
    "import pandas as pd\n",
    "\n",
    "colList = ['key', 'notificationKey','timestamp', 'detectedActivity','confidence', 'postOrRemoval',\n",
    "          'latitude','longitude',  'ringerMode', 'screenLocked', 'isConnected',\n",
    "           'isConnectedMobile','isConnectedWifi','batteryPercentage','notificationID']\n",
    "\n",
    "cleanedData = []\n",
    "for doc in docs:\n",
    "    oneRow = []\n",
    "    key = doc.id\n",
    "    values = doc.to_dict()\n",
    "    #print(values)\n",
    "    oneRow.append(key)\n",
    "    oneRow.append(values['NotificationKey'])\n",
    "    oneRow.append(values['Timestamp'])\n",
    "    oneRow.append(values['DetectedActivity'])\n",
    "    oneRow.append(values['MaxConfidence'])\n",
    "    oneRow.append(values['PostOrRemoval'])\n",
    "    oneRow.append(values['Latitude'])\n",
    "    oneRow.append(values['Longitude'])\n",
    "    oneRow.append(values['RingerMode'])\n",
    "    oneRow.append(values['ScreenLocked'])\n",
    "    oneRow.append(values['isConnected'])\n",
    "    oneRow.append(values['isConnectedMobile'])\n",
    "    oneRow.append(values['isConnectedWifi'])\n",
    "    oneRow.append(values['BatteryPercentage'])\n",
    "    oneRow.append(values['NotificationID'])\n",
    "    \n",
    "    cleanedData.append(oneRow)\n",
    "    \n",
    "print(\"Total rows: \", len(cleanedData))\n",
    "#Last: 12457"
   ]
  },
  {
   "cell_type": "code",
   "execution_count": 5,
   "metadata": {
    "scrolled": false
   },
   "outputs": [],
   "source": [
    "my_df = pd.DataFrame(cleanedData)\n",
    "my_df.columns = colList\n",
    "#my_df"
   ]
  },
  {
   "cell_type": "code",
   "execution_count": 6,
   "metadata": {},
   "outputs": [
    {
     "data": {
      "text/html": [
       "<div>\n",
       "<style scoped>\n",
       "    .dataframe tbody tr th:only-of-type {\n",
       "        vertical-align: middle;\n",
       "    }\n",
       "\n",
       "    .dataframe tbody tr th {\n",
       "        vertical-align: top;\n",
       "    }\n",
       "\n",
       "    .dataframe thead th {\n",
       "        text-align: right;\n",
       "    }\n",
       "</style>\n",
       "<table border=\"1\" class=\"dataframe\">\n",
       "  <thead>\n",
       "    <tr style=\"text-align: right;\">\n",
       "      <th></th>\n",
       "      <th>key</th>\n",
       "      <th>notificationKey</th>\n",
       "      <th>timestamp</th>\n",
       "      <th>detectedActivity</th>\n",
       "      <th>confidence</th>\n",
       "      <th>postOrRemoval</th>\n",
       "      <th>latitude</th>\n",
       "      <th>longitude</th>\n",
       "      <th>ringerMode</th>\n",
       "      <th>screenLocked</th>\n",
       "      <th>isConnected</th>\n",
       "      <th>isConnectedMobile</th>\n",
       "      <th>isConnectedWifi</th>\n",
       "      <th>batteryPercentage</th>\n",
       "      <th>notificationID</th>\n",
       "      <th>time</th>\n",
       "    </tr>\n",
       "  </thead>\n",
       "  <tbody>\n",
       "    <tr>\n",
       "      <th>4563</th>\n",
       "      <td>MHC0HA9dDihF4G0EWC0k</td>\n",
       "      <td>-1|android|8|null|1000</td>\n",
       "      <td>1576856629778</td>\n",
       "      <td>Still</td>\n",
       "      <td>100</td>\n",
       "      <td>Posted</td>\n",
       "      <td>NaN</td>\n",
       "      <td>NaN</td>\n",
       "      <td>1</td>\n",
       "      <td>0</td>\n",
       "      <td>1</td>\n",
       "      <td>0</td>\n",
       "      <td>1</td>\n",
       "      <td>75</td>\n",
       "      <td>8</td>\n",
       "      <td>2019-12-20 15:43:49.778</td>\n",
       "    </tr>\n",
       "    <tr>\n",
       "      <th>2058</th>\n",
       "      <td>9lRBzZshhJc1qdMUsOEa</td>\n",
       "      <td>-1|android|8|null|1000</td>\n",
       "      <td>1576856629782</td>\n",
       "      <td>Still</td>\n",
       "      <td>100</td>\n",
       "      <td>Posted</td>\n",
       "      <td>NaN</td>\n",
       "      <td>NaN</td>\n",
       "      <td>1</td>\n",
       "      <td>0</td>\n",
       "      <td>1</td>\n",
       "      <td>0</td>\n",
       "      <td>1</td>\n",
       "      <td>75</td>\n",
       "      <td>8</td>\n",
       "      <td>2019-12-20 15:43:49.782</td>\n",
       "    </tr>\n",
       "    <tr>\n",
       "      <th>7798</th>\n",
       "      <td>cQDWj9ahVZyHkZiWkeyI</td>\n",
       "      <td>-1|android|8|null|1000</td>\n",
       "      <td>1576856631563</td>\n",
       "      <td>Still</td>\n",
       "      <td>100</td>\n",
       "      <td>Removed</td>\n",
       "      <td>53.33181</td>\n",
       "      <td>-6.265689</td>\n",
       "      <td>1</td>\n",
       "      <td>0</td>\n",
       "      <td>1</td>\n",
       "      <td>0</td>\n",
       "      <td>1</td>\n",
       "      <td>75</td>\n",
       "      <td>8</td>\n",
       "      <td>2019-12-20 15:43:51.563</td>\n",
       "    </tr>\n",
       "    <tr>\n",
       "      <th>3997</th>\n",
       "      <td>JSuyy4npJJnxbYNEf9Mr</td>\n",
       "      <td>-1|android|8|null|1000</td>\n",
       "      <td>1576856631563</td>\n",
       "      <td>Still</td>\n",
       "      <td>100</td>\n",
       "      <td>Posted</td>\n",
       "      <td>53.33181</td>\n",
       "      <td>-6.265689</td>\n",
       "      <td>1</td>\n",
       "      <td>0</td>\n",
       "      <td>1</td>\n",
       "      <td>0</td>\n",
       "      <td>1</td>\n",
       "      <td>75</td>\n",
       "      <td>8</td>\n",
       "      <td>2019-12-20 15:43:51.563</td>\n",
       "    </tr>\n",
       "    <tr>\n",
       "      <th>9942</th>\n",
       "      <td>nIN0YWcgY77vBVAkH6fZ</td>\n",
       "      <td>0|com.example.notificationlogger|1|null|10317</td>\n",
       "      <td>1576856667020</td>\n",
       "      <td>Still</td>\n",
       "      <td>100</td>\n",
       "      <td>Posted</td>\n",
       "      <td>53.33181</td>\n",
       "      <td>-6.265689</td>\n",
       "      <td>1</td>\n",
       "      <td>0</td>\n",
       "      <td>1</td>\n",
       "      <td>0</td>\n",
       "      <td>1</td>\n",
       "      <td>75</td>\n",
       "      <td>1</td>\n",
       "      <td>2019-12-20 15:44:27.020</td>\n",
       "    </tr>\n",
       "  </tbody>\n",
       "</table>\n",
       "</div>"
      ],
      "text/plain": [
       "                       key                                notificationKey  \\\n",
       "4563  MHC0HA9dDihF4G0EWC0k                         -1|android|8|null|1000   \n",
       "2058  9lRBzZshhJc1qdMUsOEa                         -1|android|8|null|1000   \n",
       "7798  cQDWj9ahVZyHkZiWkeyI                         -1|android|8|null|1000   \n",
       "3997  JSuyy4npJJnxbYNEf9Mr                         -1|android|8|null|1000   \n",
       "9942  nIN0YWcgY77vBVAkH6fZ  0|com.example.notificationlogger|1|null|10317   \n",
       "\n",
       "          timestamp detectedActivity  confidence postOrRemoval  latitude  \\\n",
       "4563  1576856629778            Still         100        Posted       NaN   \n",
       "2058  1576856629782            Still         100        Posted       NaN   \n",
       "7798  1576856631563            Still         100       Removed  53.33181   \n",
       "3997  1576856631563            Still         100        Posted  53.33181   \n",
       "9942  1576856667020            Still         100        Posted  53.33181   \n",
       "\n",
       "      longitude  ringerMode  screenLocked  isConnected  isConnectedMobile  \\\n",
       "4563        NaN           1             0            1                  0   \n",
       "2058        NaN           1             0            1                  0   \n",
       "7798  -6.265689           1             0            1                  0   \n",
       "3997  -6.265689           1             0            1                  0   \n",
       "9942  -6.265689           1             0            1                  0   \n",
       "\n",
       "      isConnectedWifi  batteryPercentage  notificationID  \\\n",
       "4563                1                 75               8   \n",
       "2058                1                 75               8   \n",
       "7798                1                 75               8   \n",
       "3997                1                 75               8   \n",
       "9942                1                 75               1   \n",
       "\n",
       "                        time  \n",
       "4563 2019-12-20 15:43:49.778  \n",
       "2058 2019-12-20 15:43:49.782  \n",
       "7798 2019-12-20 15:43:51.563  \n",
       "3997 2019-12-20 15:43:51.563  \n",
       "9942 2019-12-20 15:44:27.020  "
      ]
     },
     "execution_count": 6,
     "metadata": {},
     "output_type": "execute_result"
    }
   ],
   "source": [
    "my_df['time'] = pd.to_datetime(my_df.timestamp, unit='ms')\n",
    "data = my_df.sort_values('time')\n",
    "data.head()"
   ]
  },
  {
   "cell_type": "code",
   "execution_count": 7,
   "metadata": {},
   "outputs": [
    {
     "data": {
      "text/plain": [
       "array(['com.whatsapp', 'android', 'com.android.providers.contacts',\n",
       "       'com.google.android.apps.maps', 'com.vanced.android.youtube',\n",
       "       'com.google.android.gm', 'com.truecaller',\n",
       "       'com.android.providers.downloads', 'com.miui.gallery',\n",
       "       'com.nis.app', 'com.android.incallui', 'com.xiaomi.mipicks',\n",
       "       'com.xiaomi.simactivate.service', 'com.android.server.telecom',\n",
       "       'com.android.systemui', 'cris.org.in.prs.ima',\n",
       "       'com.android.chrome', 'com.miui.notification',\n",
       "       'com.google.android.apps.docs', 'com.miui.player',\n",
       "       'com.android.vending', 'com.Dominos', 'com.xiaomi.discover',\n",
       "       'com.google.android.googlequicksearchbox', 'com.spotify.music',\n",
       "       'com.android.phone', 'com.example.notificationlogger',\n",
       "       'com.reddit.frontpage', 'com.aranoah.healthkart.plus',\n",
       "       'com.android.providers.downloads.ui', 'com.miui.cleanmaster',\n",
       "       'com.miui.securitycenter', 'com.pushbullet.android',\n",
       "       'com.google.android.apps.magazines', 'net.one97.paytm',\n",
       "       'com.android.deskclock', 'com.android.calendar',\n",
       "       'com.ninegag.android.app', 'com.google.android.music',\n",
       "       'in.startv.hotstar', 'com.olacabs.customer', 'com.fss.indus',\n",
       "       'com.netflix.mediaclient', 'com.zerodha.kite3',\n",
       "       'money.expense.budget.wallet.manager.track.finance.tracker',\n",
       "       'com.google.android.youtube', 'com.myairtelapp',\n",
       "       'com.android.htmlviewer', 'com.ubercab', 'com.niyo.global',\n",
       "       'com.miui.mishare.connectivity', 'com.mi.health',\n",
       "       'com.android.mms', 'com.phonepe.app', 'com.google.android.gms',\n",
       "       'com.miui.weather2', 'com.android.settings'], dtype=object)"
      ]
     },
     "execution_count": 7,
     "metadata": {},
     "output_type": "execute_result"
    }
   ],
   "source": [
    "# #df.loc[df['column_name'] == some_value]\n",
    "# k = my_df.loc[my_df['notification_id'] == '0|com.android.systemui|252119|null|1000']\n",
    "# #len(k.loc[my_df['postOrRemoval'] == 'Posted'])\n",
    "# k\n",
    "my_df['notificationKey'].str.split('|', expand=True)[1].unique()"
   ]
  },
  {
   "cell_type": "code",
   "execution_count": 14,
   "metadata": {
    "scrolled": false
   },
   "outputs": [],
   "source": [
    "wa = data.loc[data['notificationKey'].str.split('|', expand=True)[1] == 'com.Dominos']"
   ]
  },
  {
   "cell_type": "code",
   "execution_count": 16,
   "metadata": {},
   "outputs": [
    {
     "data": {
      "text/plain": [
       "10"
      ]
     },
     "execution_count": 16,
     "metadata": {},
     "output_type": "execute_result"
    }
   ],
   "source": [
    "len(wa.loc[wa['postOrRemoval'] == 'Removed'])"
   ]
  },
  {
   "cell_type": "code",
   "execution_count": null,
   "metadata": {},
   "outputs": [],
   "source": []
  }
 ],
 "metadata": {
  "kernelspec": {
   "display_name": "Python 3",
   "language": "python",
   "name": "python3"
  },
  "language_info": {
   "codemirror_mode": {
    "name": "ipython",
    "version": 3
   },
   "file_extension": ".py",
   "mimetype": "text/x-python",
   "name": "python",
   "nbconvert_exporter": "python",
   "pygments_lexer": "ipython3",
   "version": "3.7.3"
  }
 },
 "nbformat": 4,
 "nbformat_minor": 2
}
